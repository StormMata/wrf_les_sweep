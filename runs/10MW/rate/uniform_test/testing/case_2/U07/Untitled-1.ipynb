{
 "cells": [
  {
   "cell_type": "code",
   "execution_count": 43,
   "metadata": {},
   "outputs": [],
   "source": [
    "import numpy as np\n",
    "from datetime import datetime\n",
    "import xarray as xr\n",
    "import pandas as pd\n",
    "import glob\n",
    "import dask\n",
    "import re\n",
    "# from dask import delayed, compute\n",
    "import os\n",
    "import time\n",
    "from multiprocessing import Pool\n",
    "from rich.console import Console"
   ]
  },
  {
   "cell_type": "code",
   "execution_count": 20,
   "metadata": {},
   "outputs": [
    {
     "name": "stdout",
     "output_type": "stream",
     "text": [
      "Pre-processing...\n",
      "\n",
      "\n"
     ]
    }
   ],
   "source": [
    "# Pre-process data\n",
    "# --------------------------------------\n",
    "\n",
    "print('Pre-processing...\\n\\n', flush=True)\n",
    "\n",
    "ref_date    = np.datetime64('2015-07-23T00:00:00.000000')\n",
    "min_date    = ((np.datetime64('2015-07-23T00:00:00.000000') - ref_date) / np.timedelta64(1, 'D'))\n",
    "max_date    = ((np.datetime64('2024-04-25T00:00:00.000000') - ref_date) / np.timedelta64(1, 'D'))\n",
    "interval    = (1/4)/24\n",
    "common_time = np.arange(min_date, max_date, interval)\n",
    "\n",
    "# File lists\n",
    "T1FilenamesList = sorted(glob.glob('/scratch/09909/smata/wrf_les_sweep/runs/clockwise/gad_sweep/s0_v0/rsl.error.000*'))\n",
    "\n",
    "save_path = 'ProcessedData_a0/'\n",
    "\n",
    "# Define a function to process a single file\n",
    "def process_file(file):\n",
    "\n",
    "    for i in range(1, 101):\n",
    "        time.sleep(0.1)\n",
    "\n",
    "    return True"
   ]
  },
  {
   "cell_type": "code",
   "execution_count": 5,
   "metadata": {},
   "outputs": [],
   "source": [
    "processes = 13"
   ]
  },
  {
   "cell_type": "code",
   "execution_count": 45,
   "metadata": {},
   "outputs": [
    {
     "data": {
      "text/html": [
       "<pre style=\"white-space:pre;overflow-x:auto;line-height:normal;font-family:Menlo,'DejaVu Sans Mono',consolas,'Courier New',monospace\">Preparing to process these files:\n",
       "\n",
       " 1. s0_v0/wrfout_d02_0001-01-01_00_00_00\n",
       " 2. s0_v2/wrfout_d02_0001-01-01_00_00_00\n",
       " 3. s0_v4/wrfout_d02_0001-01-01_00_00_00\n",
       " 4. s0_vn2/wrfout_d02_0001-01-01_00_00_00\n",
       " 5. s0_vn4/wrfout_d02_0001-01-01_00_00_00\n",
       " 6. s2_v0/wrfout_d02_0001-01-01_00_00_00\n",
       " 7. s2_v2/wrfout_d02_0001-01-01_00_00_00\n",
       " 8. s2_vn2/wrfout_d02_0001-01-01_00_00_00\n",
       " 9. s4_v0/wrfout_d02_0001-01-01_00_00_00\n",
       "10. sn2_v0/wrfout_d02_0001-01-01_00_00_00\n",
       "11. sn2_v2/wrfout_d02_0001-01-01_00_00_00\n",
       "12. sn2_vn2/wrfout_d02_0001-01-01_00_00_00\n",
       "13. sn4_v0/wrfout_d02_0001-01-01_00_00_00\n",
       "</pre>\n"
      ],
      "text/plain": [
       "Preparing to process these files:\n",
       "\n",
       " 1. s0_v0/wrfout_d02_0001-01-01_00_00_00\n",
       " 2. s0_v2/wrfout_d02_0001-01-01_00_00_00\n",
       " 3. s0_v4/wrfout_d02_0001-01-01_00_00_00\n",
       " 4. s0_vn2/wrfout_d02_0001-01-01_00_00_00\n",
       " 5. s0_vn4/wrfout_d02_0001-01-01_00_00_00\n",
       " 6. s2_v0/wrfout_d02_0001-01-01_00_00_00\n",
       " 7. s2_v2/wrfout_d02_0001-01-01_00_00_00\n",
       " 8. s2_vn2/wrfout_d02_0001-01-01_00_00_00\n",
       " 9. s4_v0/wrfout_d02_0001-01-01_00_00_00\n",
       "10. sn2_v0/wrfout_d02_0001-01-01_00_00_00\n",
       "11. sn2_v2/wrfout_d02_0001-01-01_00_00_00\n",
       "12. sn2_vn2/wrfout_d02_0001-01-01_00_00_00\n",
       "13. sn4_v0/wrfout_d02_0001-01-01_00_00_00\n"
      ]
     },
     "metadata": {},
     "output_type": "display_data"
    },
    {
     "data": {
      "text/html": [
       "<pre style=\"white-space:pre;overflow-x:auto;line-height:normal;font-family:Menlo,'DejaVu Sans Mono',consolas,'Courier New',monospace\">Processing WRF outputs with <span style=\"color: #ff0000; text-decoration-color: #ff0000; font-weight: bold\">13</span> parallel processes<span style=\"color: #808000; text-decoration-color: #808000\">...</span>\n",
       "</pre>\n"
      ],
      "text/plain": [
       "Processing WRF outputs with \u001b[1;91m13\u001b[0m parallel processes\u001b[33m...\u001b[0m\n"
      ]
     },
     "metadata": {},
     "output_type": "display_data"
    },
    {
     "data": {
      "text/html": [
       "<pre style=\"white-space:pre;overflow-x:auto;line-height:normal;font-family:Menlo,'DejaVu Sans Mono',consolas,'Courier New',monospace\">Total time: <span style=\"color: #00d700; text-decoration-color: #00d700; font-weight: bold\">1.06</span> seconds.\n",
       "</pre>\n"
      ],
      "text/plain": [
       "Total time: \u001b[1;38;5;40m1.06\u001b[0m seconds.\n"
      ]
     },
     "metadata": {},
     "output_type": "display_data"
    }
   ],
   "source": [
    "if __name__ == '__main__':\n",
    "    # freeze_support()\n",
    "\n",
    "    # client = Client(n_workers=96)\n",
    "\n",
    "    # Pre-process data\n",
    "    # --------------------------------------\n",
    "    \n",
    "    # print('Pre-processing...\\n\\n', flush=True)\n",
    "    \n",
    "    ref_date    = np.datetime64('2015-07-23T00:00:00.000000')\n",
    "    min_date    = ((np.datetime64('2015-07-23T00:00:00.000000') - ref_date) / np.timedelta64(1, 'D'))\n",
    "    max_date    = ((np.datetime64('2024-04-25T00:00:00.000000') - ref_date) / np.timedelta64(1, 'D'))\n",
    "    interval    = (1/4)/24\n",
    "    common_time = np.arange(min_date, max_date, interval)\n",
    "    \n",
    "    top_dir = '/scratch/09909/smata/wrf_les_sweep/runs/clockwise/gad_sweep'\n",
    "    T1FilenamesList = sorted(glob.glob(top_dir + '/*/wrfout_d02_0001-01-01_00_00_00'))\n",
    "    pattern = re.compile(r'.*/(s\\d+_v[^\\s/]+)/(.+)$')\n",
    "\n",
    "    \n",
    "\n",
    "    # T1FilenamesList = glob.glob('/scratch/09909/smata/wrf_les_sweep/runs/clockwise/gad_sweep/s0_v0/rsl.error.000*')\n",
    "    # T1FilenamesList = sorted(T1FilenamesList)\n",
    "\n",
    "    # print('Preparing to process these files:\\n\\n', flush=True)\n",
    "    # for i in range(len(T1FilenamesList)):\n",
    "    #     print(f'{(i+1):2.0f}.  {os.path.basename(T1FilenamesList[i])}')\n",
    "\n",
    "    console = Console()\n",
    "\n",
    "    output_lines = []\n",
    "    output_lines.append('Preparing to process these files:\\n')\n",
    "\n",
    "    for i in range(len(T1FilenamesList)):\n",
    "        # Extract the part after 's<digit>_v<something>/', dynamically\n",
    "        prefix = T1FilenamesList[i].split('/')[-2]  # Get the second-to-last part\n",
    "        output_lines.append(f\"{i+1:2}. {prefix}/{os.path.basename(T1FilenamesList[i]).split(prefix)[-1]}\")\n",
    "\n",
    "    console.print(\"\\n\".join(output_lines), highlight=False)\n",
    "    \n",
    "    save_path = 'ProcessedData_a0/'\n",
    "        \n",
    "    # 1. sgpdlprofwind4news\n",
    "    # --------------------------------------------------------------------------------------------\n",
    "    console.print(f\"Processing WRF outputs with [bold][bright_red]{processes}[/bright_red][/bold] parallel processes...\")\n",
    "\n",
    "    # print(f'\\nProcessing WRF outputs with {processes} parallel processes', end = \"\", flush=True)\n",
    "\n",
    "    start_time = time.time()\n",
    "    \n",
    "    def T1_process_file(file):\n",
    "\n",
    "        for i in range(1, 101):\n",
    "            time.sleep(0.01)\n",
    "\n",
    "        return True\n",
    "    \n",
    "    # Parallel processing\n",
    "    with Pool(processes) as pool:\n",
    "        pool.map(T1_process_file, T1FilenamesList)\n",
    "\n",
    "    end_time = time.time()\n",
    "\n",
    "    # print(f\". Total time: [\\green]{end_time - start_time:.2f} seconds.\")\n",
    "    console.print(f\"Total time: [bold][green3]{end_time - start_time:.2f}[/green3][/bold] seconds.\")"
   ]
  },
  {
   "cell_type": "code",
   "execution_count": 40,
   "metadata": {},
   "outputs": [
    {
     "data": {
      "text/plain": [
       "['/scratch/09909/smata/wrf_les_sweep/runs/clockwise/gad_sweep/s0_v0/wrfout_d02_0001-01-01_00_00_00',\n",
       " '/scratch/09909/smata/wrf_les_sweep/runs/clockwise/gad_sweep/s0_v2/wrfout_d02_0001-01-01_00_00_00',\n",
       " '/scratch/09909/smata/wrf_les_sweep/runs/clockwise/gad_sweep/s0_v4/wrfout_d02_0001-01-01_00_00_00',\n",
       " '/scratch/09909/smata/wrf_les_sweep/runs/clockwise/gad_sweep/s0_vn2/wrfout_d02_0001-01-01_00_00_00',\n",
       " '/scratch/09909/smata/wrf_les_sweep/runs/clockwise/gad_sweep/s0_vn4/wrfout_d02_0001-01-01_00_00_00',\n",
       " '/scratch/09909/smata/wrf_les_sweep/runs/clockwise/gad_sweep/s2_v0/wrfout_d02_0001-01-01_00_00_00',\n",
       " '/scratch/09909/smata/wrf_les_sweep/runs/clockwise/gad_sweep/s2_v2/wrfout_d02_0001-01-01_00_00_00',\n",
       " '/scratch/09909/smata/wrf_les_sweep/runs/clockwise/gad_sweep/s2_vn2/wrfout_d02_0001-01-01_00_00_00',\n",
       " '/scratch/09909/smata/wrf_les_sweep/runs/clockwise/gad_sweep/s4_v0/wrfout_d02_0001-01-01_00_00_00',\n",
       " '/scratch/09909/smata/wrf_les_sweep/runs/clockwise/gad_sweep/sn2_v0/wrfout_d02_0001-01-01_00_00_00',\n",
       " '/scratch/09909/smata/wrf_les_sweep/runs/clockwise/gad_sweep/sn2_v2/wrfout_d02_0001-01-01_00_00_00',\n",
       " '/scratch/09909/smata/wrf_les_sweep/runs/clockwise/gad_sweep/sn2_vn2/wrfout_d02_0001-01-01_00_00_00',\n",
       " '/scratch/09909/smata/wrf_les_sweep/runs/clockwise/gad_sweep/sn4_v0/wrfout_d02_0001-01-01_00_00_00']"
      ]
     },
     "execution_count": 40,
     "metadata": {},
     "output_type": "execute_result"
    }
   ],
   "source": [
    "top_dir = '/scratch/09909/smata/wrf_les_sweep/runs/clockwise/gad_sweep'\n",
    "sorted(glob.glob(top_dir + '/*/wrfout_d02_0001-01-01_00_00_00'))\n",
    "    "
   ]
  },
  {
   "cell_type": "code",
   "execution_count": 5,
   "metadata": {},
   "outputs": [],
   "source": [
    "from wrf_io import postproc\n",
    "from wrf_io import preproc"
   ]
  },
  {
   "cell_type": "code",
   "execution_count": 9,
   "metadata": {},
   "outputs": [],
   "source": [
    "opt_params={}\n",
    "opt_params['read_from']      = '/scratch/09909/smata/wrf_les_sweep'\n",
    "opt_params['turb_model']     = 'iea10MW'\n",
    "opt_params['rotor_model']    = 'GAD'\n",
    "opt_params['output_top_dir'] = '/scratch/09909/smata/wrf_les_sweep/runs/clockwise/gad_sweep'\n",
    "opt_params['remove_data']    = 15.0\n"
   ]
  },
  {
   "cell_type": "code",
   "execution_count": null,
   "metadata": {},
   "outputs": [
    {
     "data": {
      "text/html": [
       "<pre style=\"white-space:pre;overflow-x:auto;line-height:normal;font-family:Menlo,'DejaVu Sans Mono',consolas,'Courier New',monospace\">Preparing to process these files:\n",
       "\n",
       " 1. s0_v0/wrfout_d02_0001-01-01_00_00_00\n",
       " 2. s0_v2/wrfout_d02_0001-01-01_00_00_00\n",
       " 3. s0_v4/wrfout_d02_0001-01-01_00_00_00\n",
       " 4. s0_vn2/wrfout_d02_0001-01-01_00_00_00\n",
       " 5. s0_vn4/wrfout_d02_0001-01-01_00_00_00\n",
       " 6. s2_v0/wrfout_d02_0001-01-01_00_00_00\n",
       " 7. s2_v2/wrfout_d02_0001-01-01_00_00_00\n",
       " 8. s2_vn2/wrfout_d02_0001-01-01_00_00_00\n",
       " 9. s4_v0/wrfout_d02_0001-01-01_00_00_00\n",
       "10. sn2_v0/wrfout_d02_0001-01-01_00_00_00\n",
       "11. sn2_v2/wrfout_d02_0001-01-01_00_00_00\n",
       "12. sn2_vn2/wrfout_d02_0001-01-01_00_00_00\n",
       "13. sn4_v0/wrfout_d02_0001-01-01_00_00_00\n",
       "</pre>\n"
      ],
      "text/plain": [
       "Preparing to process these files:\n",
       "\n",
       " 1. s0_v0/wrfout_d02_0001-01-01_00_00_00\n",
       " 2. s0_v2/wrfout_d02_0001-01-01_00_00_00\n",
       " 3. s0_v4/wrfout_d02_0001-01-01_00_00_00\n",
       " 4. s0_vn2/wrfout_d02_0001-01-01_00_00_00\n",
       " 5. s0_vn4/wrfout_d02_0001-01-01_00_00_00\n",
       " 6. s2_v0/wrfout_d02_0001-01-01_00_00_00\n",
       " 7. s2_v2/wrfout_d02_0001-01-01_00_00_00\n",
       " 8. s2_vn2/wrfout_d02_0001-01-01_00_00_00\n",
       " 9. s4_v0/wrfout_d02_0001-01-01_00_00_00\n",
       "10. sn2_v0/wrfout_d02_0001-01-01_00_00_00\n",
       "11. sn2_v2/wrfout_d02_0001-01-01_00_00_00\n",
       "12. sn2_vn2/wrfout_d02_0001-01-01_00_00_00\n",
       "13. sn4_v0/wrfout_d02_0001-01-01_00_00_00\n"
      ]
     },
     "metadata": {},
     "output_type": "display_data"
    },
    {
     "data": {
      "text/html": [
       "<pre style=\"white-space:pre;overflow-x:auto;line-height:normal;font-family:Menlo,'DejaVu Sans Mono',consolas,'Courier New',monospace\">Processing WRF outputs with <span style=\"color: #ff0000; text-decoration-color: #ff0000; font-weight: bold\">13</span> parallel processes<span style=\"color: #808000; text-decoration-color: #808000\">...</span>\n",
       "</pre>\n"
      ],
      "text/plain": [
       "Processing WRF outputs with \u001b[1;91m13\u001b[0m parallel processes\u001b[33m...\u001b[0m\n"
      ]
     },
     "metadata": {},
     "output_type": "display_data"
    },
    {
     "data": {
      "text/html": [
       "<pre style=\"white-space:pre;overflow-x:auto;line-height:normal;font-family:Menlo,'DejaVu Sans Mono',consolas,'Courier New',monospace\">Finished in <span style=\"color: #00d700; text-decoration-color: #00d700; font-weight: bold\">0</span> min and <span style=\"color: #00d700; text-decoration-color: #00d700; font-weight: bold\">1</span> sec.\n",
       "</pre>\n"
      ],
      "text/plain": [
       "Finished in \u001b[1;38;5;40m0\u001b[0m min and \u001b[1;38;5;40m1\u001b[0m sec.\n"
      ]
     },
     "metadata": {},
     "output_type": "display_data"
    }
   ],
   "source": [
    "parsed_config   = preproc.parse_namelist(opt_params=opt_params)\n",
    "parsed_turbine  = preproc.parse_turbine_properties(opt_params=opt_params)\n",
    "parsed_location = preproc.parse_turbine_location(opt_params=opt_params)\n",
    "\n",
    "postproc.parproc(13, params=opt_params, parsed_config, parsed_location, parsed_turbine)"
   ]
  },
  {
   "cell_type": "code",
   "execution_count": 10,
   "metadata": {},
   "outputs": [
    {
     "data": {
      "text/plain": [
       "{'time_control': {'run_days': 0,\n",
       "  'run_hours': 0,\n",
       "  'run_minutes': 25,\n",
       "  'run_seconds': 0,\n",
       "  'start_year': ['0001', '0001', '0001'],\n",
       "  'start_month': ['01', '01', '01'],\n",
       "  'start_day': ['01', '01', '01'],\n",
       "  'start_hour': ['00', '00', '00'],\n",
       "  'start_minute': ['00', '00', '00'],\n",
       "  'start_second': ['00', '00', '00'],\n",
       "  'end_year': ['0001', '0001', '0001'],\n",
       "  'end_month': ['01', '01', '01'],\n",
       "  'end_day': ['01', '01', '01'],\n",
       "  'end_hour': ['01', '01', '01'],\n",
       "  'end_minute': ['00', '00', '00'],\n",
       "  'end_second': ['00', '00', '00'],\n",
       "  'history_interval_m': ['00', '00', '00'],\n",
       "  'history_interval_s': ['10', '10', '00'],\n",
       "  'frames_per_outfile': ['1000', '1000', '1000'],\n",
       "  'restart': False,\n",
       "  'restart_interval_s': 0,\n",
       "  'io_form_history': 2,\n",
       "  'io_form_restart': 2,\n",
       "  'io_form_input': 2,\n",
       "  'io_form_boundary': 2,\n",
       "  'nocolons': True},\n",
       " 'domains': {'time_step': 0,\n",
       "  'time_step_fract_num': 10,\n",
       "  'time_step_fract_den': 25,\n",
       "  'max_dom': 2,\n",
       "  's_we': ['1', '1', '1'],\n",
       "  'e_we': ['251', '861', '751'],\n",
       "  's_sn': ['1', '1', '1'],\n",
       "  'e_sn': ['141', '321', '191'],\n",
       "  's_vert': ['1', '1', '1'],\n",
       "  'e_vert': ['187', '187', '187'],\n",
       "  'eta_levels': ['1.00000', '0.99443', '0.98886', '0.98329', '0.97773'],\n",
       "  'dx': 40,\n",
       "  'dy': 40,\n",
       "  'ztop': ['756', '756', '756'],\n",
       "  'grid_id': ['1', '2', '2'],\n",
       "  'parent_id': ['0', '1', '1'],\n",
       "  'i_parent_start': ['0', '10', '15'],\n",
       "  'j_parent_start': ['0', '54', '40'],\n",
       "  'parent_grid_ratio': ['1', '10', '10'],\n",
       "  'parent_time_step_ratio': ['1', '10', '10'],\n",
       "  'feedback': 0,\n",
       "  'smooth_option': 0,\n",
       "  'nproc_x': 8,\n",
       "  'nproc_y': 13},\n",
       " 'physics': {'mp_physics': ['0', '0', '0'],\n",
       "  'ra_lw_physics': ['0', '0', '0'],\n",
       "  'ra_sw_physics': ['0', '0', '0'],\n",
       "  'radt': ['0', '0', '0'],\n",
       "  'sf_sfclay_physics': ['0', '0', '0'],\n",
       "  'sf_surface_physics': ['0', '0', '0'],\n",
       "  'bl_pbl_physics': ['0', '0', '0'],\n",
       "  'bldt': ['0', '0', '0'],\n",
       "  'cu_physics': ['0', '0', '0'],\n",
       "  'cudt': ['0', '0', '0'],\n",
       "  'isfflx': 2,\n",
       "  '!': '===================================',\n",
       "  'wind_wtp_opt': ['0', '2'],\n",
       "  'wind_wtp_spec_rho': 1.225,\n",
       "  'wind_wtp_spec_turbdir': 270.0,\n",
       "  'wind_wtp_bladesmear_opt': 0,\n",
       "  'wind_wtp_nacellesmear_opt': 0,\n",
       "  'wind_wtp_towersmear_opt': 0,\n",
       "  'wind_wtp_aerodynloss_opt': 0,\n",
       "  'wind_wtp_correction3D_opt': 0,\n",
       "  'wind_wtp_printdiag_opt': 2,\n",
       "  'wind_wtp_yaw_opt': False,\n",
       "  'wind_wtp_hubpar_opt': False,\n",
       "  'wind_wtp_towpar_opt': False,\n",
       "  'wind_wtp_errorcheck_opt': True,\n",
       "  'wind_wtp_speedcontrol_opt': False,\n",
       "  'wind_wtp_pitchcontrol_opt': False,\n",
       "  'wind_wtp_nTurbines': 1,\n",
       "  'wind_wtp_nSections': 158,\n",
       "  'wind_wtp_nElements': 26,\n",
       "  'wind_wtp_nSeries': 4108,\n",
       "  'wind_wtp_nTowpoints': 5,\n",
       "  'wind_wtp_nSeries_tow': 5,\n",
       "  'wind_wtp_nNacpoints': 5,\n",
       "  'wind_wtp_nSeries_nac': 5,\n",
       "  'wind_wtp_nAvesamples': 100,\n",
       "  'wind_wtp_nSeries_tme': 100,\n",
       "  'windturbines_latlon': 0,\n",
       "  '! wind_wtp_sect_width_rad': 0.5,\n",
       "  '! wind_wtp_sect_length_tan': 1.0,\n",
       "  '! wind_wtp_nSeries_disk': 32,\n",
       "  '! wind_wtp_opt': ['0', '4'],\n",
       "  '! wind_wtp_spec_rho': 1.225,\n",
       "  '! wind_wtp_printdiag_opt': 0,\n",
       "  '! wind_wtp_yaw_opt': True,\n",
       "  '! wind_wtp_nTurbines': 572,\n",
       "  '! wind_wtp_tke_fact': 0.25,\n",
       "  '! wind_wtp_dist_cst': 1.0,\n",
       "  '! wind_wtp_yaw_rate': 0.5,\n",
       "  '! wind_wtp_yaw_threshold': 1000.0,\n",
       "  '! wind_wtp_aif_opt': 1,\n",
       "  '! wind_wtp_nAvesamples': 50,\n",
       "  '! wind_wtp_nSeries_tme': 28600,\n",
       "  '! windfarm_ij': 0},\n",
       " 'fdda': {},\n",
       " 'dynamics': {'cpm_opt': ['0', '0'],\n",
       "  'cpm_meso_pblh': ['0', '0'],\n",
       "  'cpm_meso_hfx': ['0', '0'],\n",
       "  'cpm_pblh_check': ['0.0', '300.0'],\n",
       "  'cpm_lim_z': ['0.0', '1000.0'],\n",
       "  'cpm_ngc_h': ['0', '8'],\n",
       "  'cpm_ncells_h': ['0', '3'],\n",
       "  'cpm_ngc_v': ['0', '1'],\n",
       "  'cpm_nb': ['0', '0'],\n",
       "  'cpm_sb': ['0', '0'],\n",
       "  'cpm_eb': ['0', '0'],\n",
       "  'cpm_wb': ['0', '0'],\n",
       "  'cpm_noff_h': ['0', '0'],\n",
       "  'cpm_noff_v': ['0', '0'],\n",
       "  'cpm_amp': ['0.0', '0.0'],\n",
       "  'cpm_pec': ['0.0', '0.2'],\n",
       "  'cpm_dt': ['0.0', '0.0'],\n",
       "  'cpm_lambda': ['0.0', '1.0'],\n",
       "  'cpm_rim': ['0.0', '-1.0'],\n",
       "  'hybrid_opt': 0,\n",
       "  'rk_ord': 3,\n",
       "  'diff_opt': ['2', '2', '2'],\n",
       "  'km_opt': ['3', '3', '3'],\n",
       "  'sfs_opt': ['0', '0', '0'],\n",
       "  'm_opt': ['0', '0', '0'],\n",
       "  'damp_opt': 0,\n",
       "  'w_damping': 0,\n",
       "  'zdamp': ['100.', '100.', '100.'],\n",
       "  'dampcoef': ['0.003', '0.003', '0.003'],\n",
       "  'khdif': ['1.', '1.', '1.'],\n",
       "  'kvdif': ['1.', '1.', '1.'],\n",
       "  'c_s': 0.18,\n",
       "  'c_k': 0.1,\n",
       "  'mix_isotropic': 1,\n",
       "  'smdiv': ['0.1', '0.1', '0.1'],\n",
       "  'emdiv': ['0.01', '0.01', '0.01'],\n",
       "  'epssm': ['0.1', '0.1', '0.1'],\n",
       "  'tke_heat_flux': ['0.00', '0.00', '0.00'],\n",
       "  'time_step_sound': ['6', '6', '6'],\n",
       "  'h_mom_adv_order': ['5', '5', '5'],\n",
       "  'v_mom_adv_order': ['3', '3', '3'],\n",
       "  'h_sca_adv_order': ['5', '5', '5'],\n",
       "  'v_sca_adv_order': ['3', '3', '3'],\n",
       "  'mix_full_fields': ['.true.', '.true.', '.true.'],\n",
       "  'non_hydrostatic': ['.true.', '.true.', '.true.'],\n",
       "  'pert_coriolis': ['.false.', '.false.', '.false.'],\n",
       "  'use_theta_m': 0,\n",
       "  'use_baseparam_fr_nml': True,\n",
       "  'spec_ideal': 0,\n",
       "  'spec_hfx': 0.0,\n",
       "  'spec_z0': 0.1,\n",
       "  'spec_sf_heatrate': 0.0,\n",
       "  'spec_lat': 57.0489,\n",
       "  '!': '===================================',\n",
       "  'wind_wtp_tsout_opt': False,\n",
       "  'wind_wtp_ts_buf_size': 1,\n",
       "  '! wind_wtp_sad_tsout_opt': False,\n",
       "  '! wind_wtp_ts_buf_size': 1,\n",
       "  'wind_wtp_pln_tsout_opt': False,\n",
       "  'wind_wtp_pln_ts_buf_size': 100,\n",
       "  'wind_wtp_pln_nTurbines': 5,\n",
       "  'wind_wtp_pln_turbine_ids': ['1', '6', '7', '9', '11'],\n",
       "  'wind_wtp_pln_nz': 23,\n",
       "  'wind_wtp_pln_nxy': 21,\n",
       "  'wind_wtp_pln_nSeries_tme': 2415,\n",
       "  'wind_wtp_pln_width': 210.0,\n",
       "  'wind_wtp_pln_height': 230.0,\n",
       "  'wind_wtp_pln_dist': 200.0},\n",
       " 'bdy_control': {'periodic_x': True,\n",
       "  'symmetric_xs': False,\n",
       "  'symmetric_xe': False,\n",
       "  'open_xs': False,\n",
       "  'open_xe': False,\n",
       "  'periodic_y': True,\n",
       "  'symmetric_ys': False,\n",
       "  'symmetric_ye': False,\n",
       "  'open_ys': False,\n",
       "  'open_ye': False},\n",
       " 'grib2': {},\n",
       " 'namelist_quilt': {'nio_tasks_per_group': 0, 'nio_groups': 1},\n",
       " 'ideal': {'ideal_case': 9}}"
      ]
     },
     "execution_count": 10,
     "metadata": {},
     "output_type": "execute_result"
    }
   ],
   "source": [
    "preproc.parse_namelist(opt_params=opt_params)"
   ]
  },
  {
   "cell_type": "code",
   "execution_count": null,
   "metadata": {},
   "outputs": [],
   "source": []
  }
 ],
 "metadata": {
  "kernelspec": {
   "display_name": "wrf",
   "language": "python",
   "name": "python3"
  },
  "language_info": {
   "codemirror_mode": {
    "name": "ipython",
    "version": 3
   },
   "file_extension": ".py",
   "mimetype": "text/x-python",
   "name": "python",
   "nbconvert_exporter": "python",
   "pygments_lexer": "ipython3",
   "version": "3.10.15"
  }
 },
 "nbformat": 4,
 "nbformat_minor": 2
}
