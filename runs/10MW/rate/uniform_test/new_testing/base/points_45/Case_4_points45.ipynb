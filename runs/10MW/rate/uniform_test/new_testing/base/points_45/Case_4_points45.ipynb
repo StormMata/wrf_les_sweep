{
 "cells": [
  {
   "cell_type": "code",
   "execution_count": 1,
   "metadata": {},
   "outputs": [],
   "source": [
    "import glob\n",
    "import numpy as np\n",
    "import matplotlib.pyplot as plt\n",
    "from scipy.interpolate import interp1d\n",
    "import seaborn as sns\n",
    "\n",
    "from pathlib import Path\n",
    "from MITRotor import IEA10MW"
   ]
  },
  {
   "cell_type": "code",
   "execution_count": 4,
   "metadata": {},
   "outputs": [],
   "source": [
    "rotor = IEA10MW()\n",
    "\n",
    "nElements = 26\n",
    "nSections = 158"
   ]
  },
  {
   "cell_type": "code",
   "execution_count": 6,
   "metadata": {},
   "outputs": [],
   "source": [
    "def extract_columns(file_list):\n",
    "    data_dict = {}\n",
    "    \n",
    "    for file in file_list:\n",
    "        with open(file, 'r') as f:\n",
    "            lines = f.readlines()\n",
    "            \n",
    "            # Skip the header line and extract columns 1, 4, and 5\n",
    "            data = np.loadtxt(lines[1:])[:, [0, 3, 4]]\n",
    "            \n",
    "            # Use the filename without the path and extension as the dictionary key\n",
    "            key = Path(file).parent.name\n",
    "            data_dict[key] = data\n",
    "    \n",
    "    return data_dict"
   ]
  },
  {
   "cell_type": "code",
   "execution_count": 7,
   "metadata": {},
   "outputs": [],
   "source": [
    "wrfles_bem = []\n",
    "# wrfles_wind = []\n",
    "wrfles_bem.append(dict(np.load('/scratch/09909/smata/wrf_les_sweep/runs/10MW/rate/uniform_test/new_testing/base/points_45/case_4/U07_lite.npz')))"
   ]
  },
  {
   "cell_type": "code",
   "execution_count": 12,
   "metadata": {},
   "outputs": [],
   "source": [
    "file_list = glob.glob(\"/scratch/09909/smata/wrf_les_sweep/runs/10MW/rate/uniform_test/new_testing/base/points_45/case_4/input_sounding\")\n",
    "\n",
    "data = extract_columns(file_list)\n",
    "\n",
    "t = np.linspace(0,2*np.pi,nSections)\n",
    "r = np.linspace(0,1,nElements)\n",
    "\n",
    "R, T = np.meshgrid(r, t)\n",
    "\n",
    "X = R * np.sin(T)\n",
    "Y = (R * np.cos(T)) * wrfles_bem[0]['diameter']/2 + 378"
   ]
  },
  {
   "cell_type": "code",
   "execution_count": 13,
   "metadata": {},
   "outputs": [],
   "source": [
    "fontsize = 24\n",
    "plt.rcParams['xtick.labelsize'] = 20 \n",
    "plt.rcParams['ytick.labelsize'] = 20 \n",
    "\n",
    "plt.rcParams.update({\n",
    "    'text.usetex': True,\n",
    "    'text.latex.preamble': r'\\usepackage{amsfonts}'\n",
    "})"
   ]
  },
  {
   "cell_type": "code",
   "execution_count": 16,
   "metadata": {},
   "outputs": [
    {
     "name": "stderr",
     "output_type": "stream",
     "text": [
      "/tmp/ipykernel_719884/3994496097.py:100: UserWarning: No data for colormapping provided via 'c'. Parameters 'cmap' will be ignored\n",
      "  ax.scatter(ind_rotor[count], ct_rotor[count], cmap='viridis', s=110, edgecolor='none',color=colors[count],alpha=0.5,label = leg_strs[count], zorder = count + 2)\n"
     ]
    },
    {
     "data": {
      "image/png": "[encoded data removed]",
      "text/plain": [
       "<Figure size 600x500 with 1 Axes>"
      ]
     },
     "metadata": {},
     "output_type": "display_data"
    }
   ],
   "source": [
    "xs = [0,1,1,1,2,3,3,3,3,3,4,5,5,5,6]\n",
    "ys = [2,1,2,3,2,0,1,2,3,4,2,1,2,3,2]\n",
    "\n",
    "leg_strs = ['$6.0$','$7.0$','$8.0$', '$9.0$', '$10.0$']\n",
    "\n",
    "ind_rotor = np.zeros_like(xs, dtype=float)\n",
    "ct_rotor  = np.zeros_like(xs, dtype=float)\n",
    "\n",
    "ind_loc = np.zeros((nElements, nSections, len(xs)))\n",
    "ct_loc  = np.zeros((nElements, nSections, len(xs)))\n",
    "\n",
    "colors = sns.color_palette(\"hls\", 5)\n",
    "\n",
    "fig, ax = plt.subplots(figsize=(6, 5))\n",
    "\n",
    "casenames = ['case_4']\n",
    "\n",
    "for count,case in enumerate(casenames):\n",
    "    u_func = interp1d(data[case][:,0], data[case][:,1], kind='linear')\n",
    "    v_func = interp1d(data[case][:,0], data[case][:,2], kind='linear')\n",
    "\n",
    "    u_inf = u_func(Y)\n",
    "    v_inf = v_func(Y)\n",
    "\n",
    "    # Get radial points\n",
    "    # a = ((wrfles_bem[count]['rOverR'] * rotor.R) - rotor.hub_radius)/rotor.R\n",
    "    # r = (rotor.hub_radius + a * (rotor.R - rotor.hub_radius)) / rotor.R\n",
    "\n",
    "    r = wrfles_bem[count]['rOverR'] * rotor.R\n",
    "\n",
    "    # Compute induction\n",
    "    ind = 1 - np.mean(wrfles_bem[count]['shapiroM'][0] * wrfles_bem[count]['u'],axis=0) / u_inf.T\n",
    "    # ind = 1 - np.mean(wrfles_bem[count]['u'],axis=0) / u_inf.T\n",
    "\n",
    "\n",
    "    phi = np.deg2rad(np.mean(wrfles_bem[count]['phi'], axis=0))\n",
    "    Cl = np.mean(wrfles_bem[count]['cl'], axis=0)\n",
    "    Cd = np.mean(wrfles_bem[count]['cd'], axis=0)\n",
    "\n",
    "    r =  (np.ones_like(Cd.T) * r).T\n",
    "\n",
    "    # Solidity\n",
    "    # sigma = rotor.solidity_func(r)\n",
    "\n",
    "    chord = [\n",
    "    4.72227,\n",
    "    4.94680,\n",
    "    5.22525,\n",
    "    5.50369,\n",
    "    5.78287,\n",
    "    5.95484,\n",
    "    5.89874,\n",
    "    5.61912,\n",
    "    5.32127,\n",
    "    5.02261,\n",
    "    4.72466,\n",
    "    4.42643,\n",
    "    4.12762,\n",
    "    3.81458,\n",
    "    3.49134,\n",
    "    3.18305,\n",
    "    2.91103,\n",
    "    2.63838,\n",
    "    2.34716,\n",
    "    2.04715,\n",
    "    1.74674,\n",
    "    1.44693,\n",
    "    1.14632,\n",
    "    0.84652,\n",
    "    0.54671,\n",
    "    0.28810\n",
    "    ]\n",
    "\n",
    "    chord =  (np.ones_like(Cd.T) * chord).T\n",
    "\n",
    "    sigma2 = rotor.solidity_func(wrfles_bem[count]['rOverR'])\n",
    "    sigma =  (np.ones_like(Cd.T) * sigma2).T\n",
    "\n",
    "    # sigma = (3 * chord) / (2 * np.pi * r)\n",
    "\n",
    "    # Relative velocity\n",
    "    W = np.mean(wrfles_bem[count]['vrel'], axis=0) / 7\n",
    "\n",
    "    # Axial coefficient\n",
    "    Cax = Cl * np.cos(phi) + Cd * np.sin(phi)\n",
    "\n",
    "    # Local CT\n",
    "    # ct = sigma * W**2 * Cax * wrfles_bem[count]['shapiroM'][0]**2\n",
    "    ct = sigma * W**2 * Cax\n",
    "\n",
    "    ind_loc[:,:,count] = ind\n",
    "    ct_loc[:,:,count]  = ct\n",
    "\n",
    "    ct_annular  = 1/(2 * np.pi) * np.trapezoid(ct, np.linspace(0, 2*np.pi, nSections), axis=-1)\n",
    "    ind_annular = 1/(2 * np.pi) * np.trapezoid(ind, np.linspace(0, 2*np.pi, nSections), axis=-1)\n",
    "\n",
    "    ct_rotor[count]  = 2 * np.trapezoid(ct_annular * wrfles_bem[count]['rOverR'], wrfles_bem[count]['rOverR'])\n",
    "    ind_rotor[count] = 2 * np.trapezoid(ind_annular * wrfles_bem[count]['rOverR'], wrfles_bem[count]['rOverR'])\n",
    "\n",
    "    ax.scatter(ind_rotor[count], ct_rotor[count], cmap='viridis', s=110, edgecolor='none',color=colors[count],alpha=0.5,label = leg_strs[count], zorder = count + 2)\n",
    "\n",
    "a_mom = np.linspace(0,0.75,50)\n",
    "ct_mom = 4 * a_mom * (1 - a_mom)\n",
    "ax.plot(a_mom, ct_mom, '#ff3c00',linewidth=3,alpha = 0.5, zorder = 1)\n",
    "\n",
    "ct_mad = np.linspace(0,1.5,75)\n",
    "k1 = 0.2460\n",
    "k2 = 0.0586\n",
    "k3 = 0.0883\n",
    "a_mad = k3 * ct_mad**3 + k2 * ct_mad**2 + k1 * ct_mad\n",
    "ax.plot(a_mad, ct_mad, 'k--',linewidth=3,alpha=0.5,zorder=2)\n",
    "\n",
    "ax.set_xlabel('$a$ [-]', fontsize=fontsize)\n",
    "ax.set_ylabel('$C_T$ [-]', fontsize=fontsize)\n",
    "\n",
    "plt.legend(title='$U_{\\infty}$ [m/s]')\n",
    "\n",
    "# ax[0,0].axis('off')\n",
    "# ax[0,1].axis('off')\n",
    "# ax[0,3].axis('off')\n",
    "\n",
    "\n",
    "# plt.savefig(f\"./figs/wrf_10MW_rotor.png\", bbox_inches=\"tight\", dpi=600)\n",
    "plt.show()"
   ]
  },
  {
   "cell_type": "code",
   "execution_count": 13,
   "metadata": {},
   "outputs": [
    {
     "data": {
      "text/plain": [
       "[np.float64(0.23185408150849574), np.float64(0.6730635591260987)]"
      ]
     },
     "execution_count": 13,
     "metadata": {},
     "output_type": "execute_result"
    }
   ],
   "source": [
    "[ind_rotor[0], ct_rotor[0]]"
   ]
  },
  {
   "cell_type": "code",
   "execution_count": 17,
   "metadata": {},
   "outputs": [
    {
     "data": {
      "text/plain": [
       "array([0.67308982, 0.        , 0.        , 0.        , 0.        ,\n",
       "       0.        , 0.        , 0.        , 0.        , 0.        ,\n",
       "       0.        , 0.        , 0.        , 0.        , 0.        ])"
      ]
     },
     "execution_count": 17,
     "metadata": {},
     "output_type": "execute_result"
    }
   ],
   "source": [
    "ct_rotor"
   ]
  },
  {
   "cell_type": "code",
   "execution_count": 29,
   "metadata": {},
   "outputs": [
    {
     "data": {
      "text/plain": [
       "array([0.21929737, 0.        , 0.        , 0.        , 0.        ,\n",
       "       0.        , 0.        , 0.        , 0.        , 0.        ,\n",
       "       0.        , 0.        , 0.        , 0.        , 0.        ])"
      ]
     },
     "execution_count": 29,
     "metadata": {},
     "output_type": "execute_result"
    }
   ],
   "source": [
    "ind_rotor"
   ]
  },
  {
   "cell_type": "code",
   "execution_count": 2,
   "metadata": {},
   "outputs": [
    {
     "data": {
      "text/plain": [
       "0.2881"
      ]
     },
     "execution_count": 2,
     "metadata": {},
     "output_type": "execute_result"
    }
   ],
   "source": [
    "4.72227\n",
    "4.94680\n",
    "5.22525\n",
    "5.50369\n",
    "5.78287\n",
    "5.95484\n",
    "5.89874\n",
    "5.61912\n",
    "5.32127\n",
    "5.02261\n",
    "4.72466\n",
    "4.42643\n",
    "4.12762\n",
    "3.81458\n",
    "3.49134\n",
    "3.18305\n",
    "2.91103\n",
    "2.63838\n",
    "2.34716\n",
    "2.04715\n",
    "1.74674\n",
    "1.44693\n",
    "1.14632\n",
    "0.84652\n",
    "0.54671\n",
    "0.28810"
   ]
  },
  {
   "cell_type": "code",
   "execution_count": 10,
   "metadata": {},
   "outputs": [
    {
     "data": {
      "text/plain": [
       "array([4.66772551, 4.94646327, 5.22520102, 5.50393878, 5.78267654,\n",
       "       5.95488659, 5.91741297, 5.619217  , 5.32102104, 5.02282507,\n",
       "       4.72462911, 4.42643314, 4.12823717, 3.81439031, 3.49135165,\n",
       "       3.18304662, 2.91081356, 2.63858051, 2.347105  , 2.04698434,\n",
       "       1.74686367, 1.446743  , 1.14662233, 0.84650167, 0.546381  ,\n",
       "       0.24626033])"
      ]
     },
     "execution_count": 10,
     "metadata": {},
     "output_type": "execute_result"
    }
   ],
   "source": [
    "rotor.chord_func(wrfles_bem[0]['rOverR'])"
   ]
  },
  {
   "cell_type": "code",
   "execution_count": 22,
   "metadata": {},
   "outputs": [
    {
     "data": {
      "text/plain": [
       "array([[0.55311567, 0.550087  , 0.5503691 , ..., 0.5528241 , 0.5529115 ,\n",
       "        0.5530088 ],\n",
       "       [0.47741258, 0.47411898, 0.4745157 , ..., 0.47729778, 0.47731954,\n",
       "        0.4773571 ],\n",
       "       [1.2861124 , 1.2866423 , 1.2866321 , ..., 1.2859057 , 1.2859784 ,\n",
       "        1.2860479 ],\n",
       "       ...,\n",
       "       [1.3096434 , 1.2974792 , 1.298606  , ..., 1.2996897 , 1.2984245 ,\n",
       "        1.2973996 ],\n",
       "       [1.191884  , 1.1927899 , 1.1948885 , ..., 1.1969832 , 1.194574  ,\n",
       "        1.192642  ],\n",
       "       [1.1693043 , 1.1692417 , 1.1688918 , ..., 1.1678233 , 1.1685575 ,\n",
       "        1.1690876 ]], shape=(26, 158), dtype=float32)"
      ]
     },
     "execution_count": 22,
     "metadata": {},
     "output_type": "execute_result"
    }
   ],
   "source": [
    "Cax"
   ]
  },
  {
   "cell_type": "code",
   "execution_count": 6,
   "metadata": {},
   "outputs": [
    {
     "data": {
      "text/plain": [
       "array([[0.98582274],\n",
       "       [0.98582274],\n",
       "       [0.98582274],\n",
       "       [0.98582274],\n",
       "       [0.98582274],\n",
       "       [0.98582274],\n",
       "       [0.98582274],\n",
       "       [0.98582274],\n",
       "       [0.98582274],\n",
       "       [0.98582274],\n",
       "       [0.98582274],\n",
       "       [0.98582274],\n",
       "       [0.98582274],\n",
       "       [0.98582274],\n",
       "       [0.98582274],\n",
       "       [0.98582274],\n",
       "       [0.98582274],\n",
       "       [0.98582274],\n",
       "       [0.98582274],\n",
       "       [0.98582274],\n",
       "       [0.98582274],\n",
       "       [0.98582274],\n",
       "       [0.98582274],\n",
       "       [0.98582274],\n",
       "       [0.98582274],\n",
       "       [0.98582274],\n",
       "       [0.98582274],\n",
       "       [0.98582274],\n",
       "       [0.98582274],\n",
       "       [0.98582274]], dtype=float32)"
      ]
     },
     "execution_count": 6,
     "metadata": {},
     "output_type": "execute_result"
    }
   ],
   "source": [
    "wrfles_bem[1]['shapiroM']"
   ]
  },
  {
   "cell_type": "code",
   "execution_count": 38,
   "metadata": {},
   "outputs": [
    {
     "data": {
      "text/plain": [
       "[<matplotlib.lines.Line2D at 0x1514cb644280>]"
      ]
     },
     "execution_count": 38,
     "metadata": {},
     "output_type": "execute_result"
    },
    {
     "data": {
      "image/png": "[encoded data removed]",
      "text/plain": [
       "<Figure size 1200x500 with 1 Axes>"
      ]
     },
     "metadata": {},
     "output_type": "display_data"
    }
   ],
   "source": [
    "fig, ax = plt.subplots(figsize=(12, 5))\n",
    "\n",
    "ax.plot(sigma[:,0], label='case 1')\n",
    "ax.plot(sigma2[:,0], label='case 4')"
   ]
  },
  {
   "cell_type": "code",
   "execution_count": 26,
   "metadata": {},
   "outputs": [
    {
     "data": {
      "text/plain": [
       "array([0.52226433, 0.29514794, 0.21257072, 0.16986018, 0.14376026,\n",
       "       0.12394105, 0.10591682, 0.08822723, 0.07440718, 0.0633124 ,\n",
       "       0.05420892, 0.04660497, 0.04015806, 0.03448137, 0.02947694,\n",
       "       0.02520928, 0.02170867, 0.01859396, 0.01567598, 0.01299276,\n",
       "       0.01056342, 0.00835345, 0.00633446, 0.00448273, 0.00277835,\n",
       "       0.00120431])"
      ]
     },
     "execution_count": 26,
     "metadata": {},
     "output_type": "execute_result"
    }
   ],
   "source": [
    "sigma[:,0]"
   ]
  },
  {
   "cell_type": "code",
   "execution_count": null,
   "metadata": {},
   "outputs": [],
   "source": []
  }
 ],
 "metadata": {
  "kernelspec": {
   "display_name": "mitrotor",
   "language": "python",
   "name": "python3"
  },
  "language_info": {
   "codemirror_mode": {
    "name": "ipython",
    "version": 3
   },
   "file_extension": ".py",
   "mimetype": "text/x-python",
   "name": "python",
   "nbconvert_exporter": "python",
   "pygments_lexer": "ipython3",
   "version": "3.10.16"
  }
 },
 "nbformat": 4,
 "nbformat_minor": 2
}
